{
 "cells": [
  {
   "cell_type": "code",
   "execution_count": 10,
   "id": "83fcaac0",
   "metadata": {},
   "outputs": [
    {
     "data": {
      "text/html": [
       "<div>\n",
       "<style scoped>\n",
       "    .dataframe tbody tr th:only-of-type {\n",
       "        vertical-align: middle;\n",
       "    }\n",
       "\n",
       "    .dataframe tbody tr th {\n",
       "        vertical-align: top;\n",
       "    }\n",
       "\n",
       "    .dataframe thead th {\n",
       "        text-align: right;\n",
       "    }\n",
       "</style>\n",
       "<table border=\"1\" class=\"dataframe\">\n",
       "  <thead>\n",
       "    <tr style=\"text-align: right;\">\n",
       "      <th></th>\n",
       "      <th>cgpa1</th>\n",
       "      <th>iq1</th>\n",
       "      <th>cgpa2</th>\n",
       "      <th>iq2</th>\n",
       "    </tr>\n",
       "  </thead>\n",
       "  <tbody>\n",
       "    <tr>\n",
       "      <th>0</th>\n",
       "      <td>5.13</td>\n",
       "      <td>88</td>\n",
       "      <td>9.13</td>\n",
       "      <td>9.13</td>\n",
       "    </tr>\n",
       "    <tr>\n",
       "      <th>1</th>\n",
       "      <td>5.90</td>\n",
       "      <td>113</td>\n",
       "      <td>5.88</td>\n",
       "      <td>110.00</td>\n",
       "    </tr>\n",
       "    <tr>\n",
       "      <th>2</th>\n",
       "      <td>8.36</td>\n",
       "      <td>93</td>\n",
       "      <td>5.01</td>\n",
       "      <td>86.00</td>\n",
       "    </tr>\n",
       "    <tr>\n",
       "      <th>3</th>\n",
       "      <td>8.27</td>\n",
       "      <td>97</td>\n",
       "      <td>4.95</td>\n",
       "      <td>88.00</td>\n",
       "    </tr>\n",
       "    <tr>\n",
       "      <th>4</th>\n",
       "      <td>5.45</td>\n",
       "      <td>110</td>\n",
       "      <td>8.91</td>\n",
       "      <td>119.00</td>\n",
       "    </tr>\n",
       "  </tbody>\n",
       "</table>\n",
       "</div>"
      ],
      "text/plain": [
       "   cgpa1  iq1  cgpa2     iq2\n",
       "0   5.13   88   9.13    9.13\n",
       "1   5.90  113   5.88  110.00\n",
       "2   8.36   93   5.01   86.00\n",
       "3   8.27   97   4.95   88.00\n",
       "4   5.45  110   8.91  119.00"
      ]
     },
     "execution_count": 10,
     "metadata": {},
     "output_type": "execute_result"
    }
   ],
   "source": [
    "import pandas as pd \n",
    "import numpy as np\n",
    "\n",
    "data=pd.read_csv('student_clustering.csv')\n",
    "data.head()"
   ]
  },
  {
   "cell_type": "code",
   "execution_count": 25,
   "id": "ab4ad5f3",
   "metadata": {},
   "outputs": [
    {
     "name": "stdout",
     "output_type": "stream",
     "text": [
      "Collecting bioinfokit\n",
      "  Downloading bioinfokit-2.1.0.tar.gz (86 kB)\n",
      "     -------------------------------------- 87.0/87.0 kB 446.2 kB/s eta 0:00:00\n",
      "  Preparing metadata (setup.py): started\n",
      "  Preparing metadata (setup.py): finished with status 'done'\n",
      "Requirement already satisfied: pandas in c:\\users\\jeyaa n.k.s\\anaconda3\\lib\\site-packages (from bioinfokit) (1.4.4)\n",
      "Requirement already satisfied: numpy in c:\\users\\jeyaa n.k.s\\anaconda3\\lib\\site-packages (from bioinfokit) (1.21.5)\n",
      "Requirement already satisfied: matplotlib in c:\\users\\jeyaa n.k.s\\anaconda3\\lib\\site-packages (from bioinfokit) (3.5.2)\n",
      "Requirement already satisfied: scipy in c:\\users\\jeyaa n.k.s\\anaconda3\\lib\\site-packages (from bioinfokit) (1.9.1)\n",
      "Requirement already satisfied: scikit-learn in c:\\users\\jeyaa n.k.s\\anaconda3\\lib\\site-packages (from bioinfokit) (1.0.2)\n",
      "Requirement already satisfied: seaborn in c:\\users\\jeyaa n.k.s\\anaconda3\\lib\\site-packages (from bioinfokit) (0.11.2)\n",
      "Collecting matplotlib-venn\n",
      "  Downloading matplotlib-venn-0.11.9.tar.gz (30 kB)\n",
      "  Installing build dependencies: started\n",
      "  Installing build dependencies: finished with status 'done'\n",
      "  Getting requirements to build wheel: started\n",
      "  Getting requirements to build wheel: finished with status 'done'\n",
      "  Installing backend dependencies: started\n",
      "  Installing backend dependencies: finished with status 'done'\n",
      "  Preparing metadata (pyproject.toml): started\n",
      "  Preparing metadata (pyproject.toml): finished with status 'done'\n",
      "Requirement already satisfied: tabulate in c:\\users\\jeyaa n.k.s\\anaconda3\\lib\\site-packages (from bioinfokit) (0.8.10)\n",
      "Requirement already satisfied: statsmodels in c:\\users\\jeyaa n.k.s\\anaconda3\\lib\\site-packages (from bioinfokit) (0.13.2)\n",
      "Collecting textwrap3\n",
      "  Downloading textwrap3-0.9.2-py2.py3-none-any.whl (12 kB)\n",
      "Collecting adjustText\n",
      "  Downloading adjustText-0.8-py3-none-any.whl (9.1 kB)\n",
      "Requirement already satisfied: python-dateutil>=2.7 in c:\\users\\jeyaa n.k.s\\anaconda3\\lib\\site-packages (from matplotlib->bioinfokit) (2.8.2)\n",
      "Requirement already satisfied: packaging>=20.0 in c:\\users\\jeyaa n.k.s\\anaconda3\\lib\\site-packages (from matplotlib->bioinfokit) (21.3)\n",
      "Requirement already satisfied: cycler>=0.10 in c:\\users\\jeyaa n.k.s\\anaconda3\\lib\\site-packages (from matplotlib->bioinfokit) (0.11.0)\n",
      "Requirement already satisfied: kiwisolver>=1.0.1 in c:\\users\\jeyaa n.k.s\\anaconda3\\lib\\site-packages (from matplotlib->bioinfokit) (1.4.2)\n",
      "Requirement already satisfied: pillow>=6.2.0 in c:\\users\\jeyaa n.k.s\\anaconda3\\lib\\site-packages (from matplotlib->bioinfokit) (9.2.0)\n",
      "Requirement already satisfied: pyparsing>=2.2.1 in c:\\users\\jeyaa n.k.s\\anaconda3\\lib\\site-packages (from matplotlib->bioinfokit) (3.0.9)\n",
      "Requirement already satisfied: fonttools>=4.22.0 in c:\\users\\jeyaa n.k.s\\anaconda3\\lib\\site-packages (from matplotlib->bioinfokit) (4.25.0)\n",
      "Requirement already satisfied: pytz>=2020.1 in c:\\users\\jeyaa n.k.s\\anaconda3\\lib\\site-packages (from pandas->bioinfokit) (2022.1)\n",
      "Requirement already satisfied: joblib>=0.11 in c:\\users\\jeyaa n.k.s\\anaconda3\\lib\\site-packages (from scikit-learn->bioinfokit) (1.1.0)\n",
      "Requirement already satisfied: threadpoolctl>=2.0.0 in c:\\users\\jeyaa n.k.s\\anaconda3\\lib\\site-packages (from scikit-learn->bioinfokit) (2.2.0)\n",
      "Requirement already satisfied: patsy>=0.5.2 in c:\\users\\jeyaa n.k.s\\anaconda3\\lib\\site-packages (from statsmodels->bioinfokit) (0.5.2)\n",
      "Requirement already satisfied: six in c:\\users\\jeyaa n.k.s\\anaconda3\\lib\\site-packages (from patsy>=0.5.2->statsmodels->bioinfokit) (1.16.0)\n",
      "Building wheels for collected packages: bioinfokit, matplotlib-venn\n",
      "  Building wheel for bioinfokit (setup.py): started\n",
      "  Building wheel for bioinfokit (setup.py): finished with status 'done'\n",
      "  Created wheel for bioinfokit: filename=bioinfokit-2.1.0-py3-none-any.whl size=58669 sha256=34a220abdb8e3080aa5abaf92acddde52bab26282c68e002ac35b50c8538e9db\n",
      "  Stored in directory: c:\\users\\jeyaa n.k.s\\appdata\\local\\pip\\cache\\wheels\\c9\\ab\\ed\\8a7fde0a63653b75ac029d67598265d185e5915dfb594ddc59\n",
      "  Building wheel for matplotlib-venn (pyproject.toml): started\n",
      "  Building wheel for matplotlib-venn (pyproject.toml): finished with status 'done'\n",
      "  Created wheel for matplotlib-venn: filename=matplotlib_venn-0.11.9-py3-none-any.whl size=33038 sha256=c2165c3a2a4bc936211c324feb6b0a5795d1ddecd5d73f04caffab01f4c72217\n",
      "  Stored in directory: c:\\users\\jeyaa n.k.s\\appdata\\local\\pip\\cache\\wheels\\25\\de\\d4\\29dfc5d4520b956df7bc54a8464ad053042918bc525e88bf66\n",
      "Successfully built bioinfokit matplotlib-venn\n",
      "Installing collected packages: textwrap3, matplotlib-venn, adjustText, bioinfokit\n",
      "Successfully installed adjustText-0.8 bioinfokit-2.1.0 matplotlib-venn-0.11.9 textwrap3-0.9.2\n",
      "Note: you may need to restart the kernel to use updated packages.\n"
     ]
    }
   ],
   "source": [
    "pip install bioinfokit"
   ]
  },
  {
   "cell_type": "code",
   "execution_count": 26,
   "id": "ffdbe341",
   "metadata": {},
   "outputs": [
    {
     "data": {
      "text/html": [
       "<div>\n",
       "<style scoped>\n",
       "    .dataframe tbody tr th:only-of-type {\n",
       "        vertical-align: middle;\n",
       "    }\n",
       "\n",
       "    .dataframe tbody tr th {\n",
       "        vertical-align: top;\n",
       "    }\n",
       "\n",
       "    .dataframe thead th {\n",
       "        text-align: right;\n",
       "    }\n",
       "</style>\n",
       "<table border=\"1\" class=\"dataframe\">\n",
       "  <thead>\n",
       "    <tr style=\"text-align: right;\">\n",
       "      <th></th>\n",
       "      <th>cgpa1</th>\n",
       "      <th>iq1</th>\n",
       "      <th>cgpa2</th>\n",
       "      <th>iq2</th>\n",
       "      <th>Diff</th>\n",
       "    </tr>\n",
       "  </thead>\n",
       "  <tbody>\n",
       "    <tr>\n",
       "      <th>0</th>\n",
       "      <td>5.13</td>\n",
       "      <td>88</td>\n",
       "      <td>9.13</td>\n",
       "      <td>9.13</td>\n",
       "      <td>78.87</td>\n",
       "    </tr>\n",
       "    <tr>\n",
       "      <th>1</th>\n",
       "      <td>5.90</td>\n",
       "      <td>113</td>\n",
       "      <td>5.88</td>\n",
       "      <td>110.00</td>\n",
       "      <td>3.00</td>\n",
       "    </tr>\n",
       "  </tbody>\n",
       "</table>\n",
       "</div>"
      ],
      "text/plain": [
       "   cgpa1  iq1  cgpa2     iq2   Diff\n",
       "0   5.13   88   9.13    9.13  78.87\n",
       "1   5.90  113   5.88  110.00   3.00"
      ]
     },
     "execution_count": 26,
     "metadata": {},
     "output_type": "execute_result"
    }
   ],
   "source": [
    "from bioinfokit.analys import stat\n",
    "# get difference\n",
    "data['Diff'] = data['iq1'] - data['iq2']\n",
    "data.head(2)"
   ]
  },
  {
   "cell_type": "code",
   "execution_count": 32,
   "id": "2783ab01",
   "metadata": {},
   "outputs": [
    {
     "name": "stdout",
     "output_type": "stream",
     "text": [
      "\n",
      "One Sample Z-test \n",
      "\n",
      "------------------  --------\n",
      "Sample size          100\n",
      "Mean                 102.55\n",
      "Z value             2438.75\n",
      "p value (one-tail)     0\n",
      "p value (two-tail)     0\n",
      "Lower 95.0%          102.472\n",
      "Upper 95.0%          102.628\n",
      "------------------  --------\n"
     ]
    }
   ],
   "source": [
    "#perform paired samples z test\n",
    "from bioinfokit.analys import stat\n",
    "res = stat()\n",
    "res.ztest(df=data, x='iq1', mu=5, x_std=0.4,test_type=1)\n",
    "print(res.summary)"
   ]
  },
  {
   "cell_type": "code",
   "execution_count": 33,
   "id": "72a63871",
   "metadata": {},
   "outputs": [
    {
     "data": {
      "text/plain": [
       "(2438.75, 0.0)"
      ]
     },
     "execution_count": 33,
     "metadata": {},
     "output_type": "execute_result"
    }
   ],
   "source": [
    "z, p = res.result[1], res.result[3]\n",
    "z, p"
   ]
  }
 ],
 "metadata": {
  "kernelspec": {
   "display_name": "Python 3 (ipykernel)",
   "language": "python",
   "name": "python3"
  },
  "language_info": {
   "codemirror_mode": {
    "name": "ipython",
    "version": 3
   },
   "file_extension": ".py",
   "mimetype": "text/x-python",
   "name": "python",
   "nbconvert_exporter": "python",
   "pygments_lexer": "ipython3",
   "version": "3.9.13"
  }
 },
 "nbformat": 4,
 "nbformat_minor": 5
}
